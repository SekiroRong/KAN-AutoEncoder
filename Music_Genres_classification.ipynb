{
 "cells": [
  {
   "cell_type": "code",
   "execution_count": 1,
   "id": "fb9d011d-afcc-424c-8a5a-8956358cf48b",
   "metadata": {},
   "outputs": [],
   "source": [
    "import os\n",
    "os.environ['CUDA_VISIBLE_DEVICES'] = '1'"
   ]
  },
  {
   "cell_type": "code",
   "execution_count": 2,
   "id": "22e4df26-4485-4e9a-be50-834e1a6cb95e",
   "metadata": {},
   "outputs": [
    {
     "name": "stderr",
     "output_type": "stream",
     "text": [
      "/root/anaconda3/envs/pytorch/lib/python3.9/site-packages/tqdm/auto.py:21: TqdmWarning: IProgress not found. Please update jupyter and ipywidgets. See https://ipywidgets.readthedocs.io/en/stable/user_install.html\n",
      "  from .autonotebook import tqdm as notebook_tqdm\n"
     ]
    }
   ],
   "source": [
    "from src.efficient_kan import KAN"
   ]
  },
  {
   "cell_type": "code",
   "execution_count": 3,
   "id": "e11b5943-fc0b-469f-b9d8-0190642c77a5",
   "metadata": {},
   "outputs": [],
   "source": [
    "import torch\n",
    "import torch.nn as nn\n",
    "import torch.optim as optim\n",
    "import torchvision\n",
    "import torchvision.transforms as transforms\n",
    "from torch.utils.data import DataLoader\n",
    "from torch.utils.data import Dataset\n",
    "from tqdm import tqdm"
   ]
  },
  {
   "cell_type": "code",
   "execution_count": 4,
   "id": "a8d8fe9f-dd92-4726-87c3-2ccc7bc368d2",
   "metadata": {},
   "outputs": [],
   "source": [
    "import numpy as np\n",
    "import random\n",
    "import matplotlib.pyplot as plt"
   ]
  },
  {
   "cell_type": "code",
   "execution_count": 5,
   "id": "3fdb2336-dcb3-425c-b0a3-d5652ebd878a",
   "metadata": {},
   "outputs": [],
   "source": [
    "config = {}\n",
    "config['encoder'] = 'KAN'\n",
    "config['input_dim'] = 1024*16\n",
    "config['feature_dim'] = 36864\n",
    "config['batch_size'] = 1024\n",
    "config['hidden_layers'] = [128, 64]\n",
    "config['lr'] = 1e-3\n",
    "config['epoch'] = 100"
   ]
  },
  {
   "cell_type": "code",
   "execution_count": 6,
   "id": "a91ba2d5-c941-4cdd-b853-6ec06bb884d6",
   "metadata": {},
   "outputs": [],
   "source": [
    "import librosa\n",
    "import librosa.display"
   ]
  },
  {
   "cell_type": "code",
   "execution_count": 7,
   "id": "ca9d6de5-88a5-46cc-81b0-234f8743566a",
   "metadata": {},
   "outputs": [],
   "source": [
    "class2label = {'blues': 0,\n",
    "               'classical': 1,\n",
    "               'country': 2,\n",
    "               'metal': 3,\n",
    "               'disco': 4,\n",
    "               'hiphop': 5,\n",
    "               'jazz': 6,\n",
    "               'pop': 7,\n",
    "               'reggae': 8,\n",
    "               'rock': 9,}\n",
    "               \n",
    "class genres_classification_dataset(Dataset):\n",
    "    def __init__(self, root='data/Data/genres_original/', input_dim=1024, train=True):\n",
    "        super(genres_classification_dataset, self).__init__()\n",
    "        self.classes = os.listdir(root)\n",
    "        self.data = []\n",
    "        self.train = train\n",
    "        for _class in self.classes:\n",
    "            wavs = os.listdir(os.path.join(root, _class))\n",
    "            if train:\n",
    "                sample_wav = wavs[:len(wavs)//2]\n",
    "            else:\n",
    "                sample_wav = wavs[len(wavs)//2:]\n",
    "            for wav in sample_wav:\n",
    "                sound, sample_rate = librosa.load(os.path.join(root, _class, wav))\n",
    "                for i in range(len(sound)//input_dim):\n",
    "                    d={}\n",
    "                    clip = sound[i*input_dim:(i+1)*input_dim]\n",
    "                    d['clip'] = clip\n",
    "                    d['class'] = _class\n",
    "                    self.data.append(d)\n",
    "\n",
    "    def __getitem__(self, index):\n",
    "        data = self.data[index]\n",
    "        _class = data['class']\n",
    "        clip = data['clip']\n",
    "        # sound, sample_rate = librosa.load(wav_path)\n",
    "        target = torch.from_numpy(clip).squeeze().unsqueeze(0).to(torch.float32)\n",
    "        onehot = torch.zeros(10)\n",
    "        onehot[class2label[_class]] = 1\n",
    "        return target, onehot\n",
    "\n",
    "    def __len__(self):\n",
    "        return len(self.data)\n",
    "\n",
    "trainset = genres_classification_dataset(input_dim=config['input_dim'], train=True)\n",
    "valset = genres_classification_dataset(input_dim=config['input_dim'], train=False)\n",
    "trainloader = DataLoader(trainset, batch_size=config['batch_size'], shuffle=True)\n",
    "valloader = DataLoader(trainset, batch_size=config['batch_size'], shuffle=False)"
   ]
  },
  {
   "cell_type": "code",
   "execution_count": 8,
   "id": "e8d0e273-8ae0-4e21-a70b-075ba38092af",
   "metadata": {},
   "outputs": [],
   "source": [
    "class KAE(torch.nn.Module):\n",
    "    def __init__(\n",
    "        self,\n",
    "        layers_hidden,\n",
    "        input_dim,\n",
    "    ):\n",
    "        super(KAE, self).__init__()\n",
    "        self.encoder = KAN([input_dim, layers_hidden[0], layers_hidden[1]])\n",
    "        self.decoder = KAN([layers_hidden[1], layers_hidden[0], input_dim])\n",
    "\n",
    "    def forward(self, x: torch.Tensor):\n",
    "        x = self.decoder(self.encoder(x))\n",
    "        return x\n",
    "class simple_classification(torch.nn.Module):\n",
    "    def __init__(\n",
    "        self,\n",
    "        input_dim,\n",
    "        layers_hidden,\n",
    "        output_dim=10,\n",
    "    ):\n",
    "        super(simple_classification, self).__init__()\n",
    "        self.model = nn.Sequential(\n",
    "            nn.Linear(input_dim, layers_hidden[0]),\n",
    "            nn.ReLU(inplace=True),\n",
    "            nn.Linear(layers_hidden[0], layers_hidden[1]),\n",
    "            nn.ReLU(inplace=True),\n",
    "            nn.Linear(layers_hidden[1], output_dim)\n",
    "            )\n",
    "\n",
    "    def forward(self, x: torch.Tensor):\n",
    "        x = self.model(x)\n",
    "        return x"
   ]
  },
  {
   "cell_type": "code",
   "execution_count": 9,
   "id": "700115ee-8201-42be-a3c9-17e87bd0b4d6",
   "metadata": {},
   "outputs": [],
   "source": [
    "device = torch.device(\"cuda\" if torch.cuda.is_available() else \"cpu\")\n",
    "import sys\n",
    "new_path = 'third_part/beats'\n",
    "sys.path.append(new_path)\n",
    "if config['encoder'] == 'beats':\n",
    "    from BEATs import BEATs, BEATsConfig\n",
    "    # load the pre-trained checkpoints\n",
    "    checkpoint = torch.load('BEATs_iter3_plus_AS2M.pt')\n",
    "    \n",
    "    cfg = BEATsConfig(checkpoint['cfg'])\n",
    "    BEATs_model = BEATs(cfg)\n",
    "    BEATs_model.load_state_dict(checkpoint['model'])\n",
    "    BEATs_model.eval()\n",
    "    BEATs_model.to(device)\n",
    "    model = simple_classification(config['feature_dim'], config['hidden_layers'])\n",
    "if config['encoder'] == 'KAE':\n",
    "    # Define model\n",
    "    kae_pretrain = torch.load('checkpoints/KAN_music_genres_pretrain.pth')\n",
    "    kae_pretrain.to(device)\n",
    "    model = simple_classification(config['feature_dim'], config['hidden_layers'])\n",
    "if config['encoder'] == 'KAN':\n",
    "    model = KAN([config['input_dim'], 1024, 64, 10])\n",
    "model.to(device)\n",
    "# Define optimizer\n",
    "optimizer = optim.AdamW(model.parameters(), lr=config['lr'], weight_decay=1e-4)\n",
    "# Define learning rate scheduler\n",
    "scheduler = optim.lr_scheduler.ExponentialLR(optimizer, gamma=0.8)\n",
    "\n",
    "# Define loss\n",
    "criterion = nn.CrossEntropyLoss()"
   ]
  },
  {
   "cell_type": "code",
   "execution_count": null,
   "id": "11654d6b-fd9c-4a1c-ab22-d427f14a3915",
   "metadata": {},
   "outputs": [
    {
     "name": "stderr",
     "output_type": "stream",
     "text": [
      "100%|██████████| 20/20 [00:03<00:00,  5.32it/s, loss=2.14, lr=0.001]\n"
     ]
    },
    {
     "name": "stdout",
     "output_type": "stream",
     "text": [
      "Epoch 1, Val Loss: 2.0353218257427215\n"
     ]
    },
    {
     "name": "stderr",
     "output_type": "stream",
     "text": [
      "100%|██████████| 20/20 [00:03<00:00,  5.84it/s, loss=2.01, lr=0.0008]\n"
     ]
    },
    {
     "name": "stdout",
     "output_type": "stream",
     "text": [
      "Epoch 2, Val Loss: 1.8675489127635956\n"
     ]
    },
    {
     "name": "stderr",
     "output_type": "stream",
     "text": [
      "100%|██████████| 20/20 [00:03<00:00,  5.61it/s, loss=1.81, lr=0.00064]\n"
     ]
    },
    {
     "name": "stdout",
     "output_type": "stream",
     "text": [
      "Epoch 3, Val Loss: 1.648305779695511\n"
     ]
    },
    {
     "name": "stderr",
     "output_type": "stream",
     "text": [
      "100%|██████████| 20/20 [00:03<00:00,  6.23it/s, loss=1.5, lr=0.000512] \n"
     ]
    },
    {
     "name": "stdout",
     "output_type": "stream",
     "text": [
      "Epoch 4, Val Loss: 1.4207991421222688\n"
     ]
    },
    {
     "name": "stderr",
     "output_type": "stream",
     "text": [
      "100%|██████████| 20/20 [00:03<00:00,  6.16it/s, loss=1.43, lr=0.00041]\n"
     ]
    },
    {
     "name": "stdout",
     "output_type": "stream",
     "text": [
      "Epoch 5, Val Loss: 1.2244133085012436\n"
     ]
    },
    {
     "name": "stderr",
     "output_type": "stream",
     "text": [
      "100%|██████████| 20/20 [00:03<00:00,  6.07it/s, loss=1.24, lr=0.000328]\n"
     ]
    },
    {
     "name": "stdout",
     "output_type": "stream",
     "text": [
      "Epoch 6, Val Loss: 1.0839591175317764\n"
     ]
    },
    {
     "name": "stderr",
     "output_type": "stream",
     "text": [
      "100%|██████████| 20/20 [00:03<00:00,  6.01it/s, loss=1.11, lr=0.000262]\n"
     ]
    },
    {
     "name": "stdout",
     "output_type": "stream",
     "text": [
      "Epoch 7, Val Loss: 0.9583573043346405\n"
     ]
    },
    {
     "name": "stderr",
     "output_type": "stream",
     "text": [
      "100%|██████████| 20/20 [00:03<00:00,  6.00it/s, loss=0.96, lr=0.00021] \n"
     ]
    },
    {
     "name": "stdout",
     "output_type": "stream",
     "text": [
      "Epoch 8, Val Loss: 0.8838223367929459\n"
     ]
    },
    {
     "name": "stderr",
     "output_type": "stream",
     "text": [
      "100%|██████████| 20/20 [00:03<00:00,  6.03it/s, loss=0.917, lr=0.000168]\n"
     ]
    },
    {
     "name": "stdout",
     "output_type": "stream",
     "text": [
      "Epoch 9, Val Loss: 0.8238902747631073\n"
     ]
    },
    {
     "name": "stderr",
     "output_type": "stream",
     "text": [
      "100%|██████████| 20/20 [00:03<00:00,  6.00it/s, loss=0.776, lr=0.000134]\n"
     ]
    },
    {
     "name": "stdout",
     "output_type": "stream",
     "text": [
      "Epoch 10, Val Loss: 0.7692569702863693\n"
     ]
    },
    {
     "name": "stderr",
     "output_type": "stream",
     "text": [
      " 40%|████      | 8/20 [00:01<00:02,  5.97it/s, loss=0.721, lr=0.000107]"
     ]
    }
   ],
   "source": [
    "for epoch in range(config['epoch']):\n",
    "    # Train\n",
    "    model.train()\n",
    "    with tqdm(trainloader) as pbar:\n",
    "        for i, (_input, label) in enumerate(pbar):\n",
    "            _input = _input.view(-1, config['input_dim']).to(device)\n",
    "            label = label.to(device)\n",
    "            optimizer.zero_grad()\n",
    "            with torch.no_grad():\n",
    "                if config['encoder'] == 'beats':\n",
    "                    feature = BEATs_model.extract_features(_input, padding_mask=torch.zeros(_input.shape[0], config['input_dim']).bool().to(device))[0]\n",
    "                    feature = feature.reshape(_input.shape[0], -1)\n",
    "                elif config['encoder'] == 'KAE':\n",
    "                    feature = kae_pretrain.encoder(_input)\n",
    "                else:\n",
    "                    feature = _input\n",
    "            output = model(feature)\n",
    "            loss = criterion(output, label)\n",
    "            loss.backward()\n",
    "            optimizer.step()\n",
    "            pbar.set_postfix(loss=loss.detach().cpu().item(), lr=optimizer.param_groups[0]['lr'])\n",
    "\n",
    "    # # Validation\n",
    "    model.eval()\n",
    "    val_loss = 0\n",
    "    with torch.no_grad():\n",
    "        for (_input, label) in valloader:\n",
    "            _input = _input.view(-1, config['input_dim']).to(device)\n",
    "            label = label.to(device)\n",
    "            if config['encoder'] == 'beats':\n",
    "                feature = BEATs_model.extract_features(_input, padding_mask=torch.zeros(_input.shape[0], config['input_dim']).bool().to(device))[0]\n",
    "                feature = feature.reshape(_input.shape[0], -1)\n",
    "            elif config['encoder'] == 'KAE':\n",
    "                feature = kae_pretrain.encoder(_input)\n",
    "            else:\n",
    "                feature = _input\n",
    "            output = model(feature)\n",
    "            val_loss += criterion(output, label).item()\n",
    "            \n",
    "    val_loss /= len(valloader)\n",
    "\n",
    "    # Update learning rate\n",
    "    scheduler.step()\n",
    "\n",
    "    print(\n",
    "        f\"Epoch {epoch + 1}, Val Loss: {val_loss}\"\n",
    "    )"
   ]
  },
  {
   "cell_type": "code",
   "execution_count": null,
   "id": "899950eb-6d62-489c-82b7-271786e77ccd",
   "metadata": {},
   "outputs": [],
   "source": [
    "test_data = valset[0]\n",
    "if config['encoder'] == 'beats':\n",
    "    feature = BEATs_model.extract_features(test_data[0].to(device), padding_mask=torch.zeros(1, config['input_dim']).bool().to(device))[0]\n",
    "    feature = feature.reshape(1, -1)\n",
    "elif config['encoder'] == 'KAE':\n",
    "    feature = kae_pretrain.encoder(test_data[0].to(device))\n",
    "else:\n",
    "    feature = test_data[0].to(device)\n",
    "pred = model(feature)\n",
    "print(pred, test_data[1])"
   ]
  },
  {
   "cell_type": "code",
   "execution_count": null,
   "id": "5498c206-ad77-47e4-97f3-212dd78abefd",
   "metadata": {},
   "outputs": [],
   "source": [
    "padding_mask = torch.zeros(1, 16384).bool().to(device)\n",
    "\n",
    "representation = BEATs_model.extract_features(test_data[0].to(device), padding_mask=padding_mask)[0]"
   ]
  },
  {
   "cell_type": "code",
   "execution_count": null,
   "id": "e41221a5-b550-4dea-9e53-d3531cc41e97",
   "metadata": {},
   "outputs": [],
   "source": [
    "plt.imshow(representation[0].detach().cpu().numpy())\n",
    "plt.show()"
   ]
  },
  {
   "cell_type": "code",
   "execution_count": null,
   "id": "6081114a-c14d-462d-a25c-db210fec334a",
   "metadata": {},
   "outputs": [],
   "source": []
  }
 ],
 "metadata": {
  "kernelspec": {
   "display_name": "Python 3 (ipykernel)",
   "language": "python",
   "name": "python3"
  },
  "language_info": {
   "codemirror_mode": {
    "name": "ipython",
    "version": 3
   },
   "file_extension": ".py",
   "mimetype": "text/x-python",
   "name": "python",
   "nbconvert_exporter": "python",
   "pygments_lexer": "ipython3",
   "version": "3.9.15"
  }
 },
 "nbformat": 4,
 "nbformat_minor": 5
}
