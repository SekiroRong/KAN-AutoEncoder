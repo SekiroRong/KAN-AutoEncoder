{
 "cells": [
  {
   "cell_type": "code",
   "execution_count": 17,
   "id": "c501c6f0-ea42-4b3b-8023-be443e39d9bc",
   "metadata": {},
   "outputs": [],
   "source": [
    "from src.efficient_kan import KAN"
   ]
  },
  {
   "cell_type": "code",
   "execution_count": 18,
   "id": "9b72c343-f309-4d5c-99cc-c2f856ae3352",
   "metadata": {},
   "outputs": [],
   "source": [
    "import torch\n",
    "import torch.nn as nn\n",
    "import torch.optim as optim\n",
    "import torchvision\n",
    "import torchvision.transforms as transforms\n",
    "from torch.utils.data import DataLoader\n",
    "from torch.utils.data import Dataset\n",
    "from tqdm import tqdm"
   ]
  },
  {
   "cell_type": "code",
   "execution_count": 19,
   "id": "cc9eb0dd-32e8-4271-9945-9298f45ad4b9",
   "metadata": {},
   "outputs": [],
   "source": [
    "import numpy as np\n",
    "import random"
   ]
  },
  {
   "cell_type": "code",
   "execution_count": 20,
   "id": "974e6d00-6b0d-4327-ae3b-f43492173867",
   "metadata": {},
   "outputs": [],
   "source": [
    "config = {}\n",
    "config['input_dim'] = 128\n",
    "config['batch_size'] = 64\n",
    "config['hidden_layers'] = [64, 5]\n",
    "config['lr'] = 1e-3\n",
    "\n"
   ]
  },
  {
   "cell_type": "code",
   "execution_count": 21,
   "id": "cc30332e-d3f4-4020-86eb-40d79c136946",
   "metadata": {},
   "outputs": [],
   "source": [
    "class kae_dataset(Dataset):\n",
    "    def __init__(self, num_data=100, input_dim=128):\n",
    "        super(kae_dataset, self).__init__()\n",
    "        self.num_data = num_data\n",
    "        self.target = []\n",
    "        for i in range(num_data):\n",
    "            scale = random.random()\n",
    "            phase_left = random.random() + 0.1\n",
    "            phase_right = random.random() + 0.1\n",
    "            x=np.arange(-phase_left*2*np.pi,phase_right*2*np.pi,(phase_right*2*np.pi+phase_left*2*np.pi)/input_dim)\n",
    "            x=x.reshape(len(x),1)\n",
    "            y=scale * np.sin(x)\n",
    "            self.target.append(y)\n",
    "\n",
    "    def __getitem__(self, index):\n",
    "        target = torch.from_numpy(self.target[index]).squeeze().unsqueeze(0).to(torch.float32)\n",
    "        return target\n",
    "\n",
    "    def __len__(self):\n",
    "        return len(self.target)\n",
    "\n",
    "trainset = kae_dataset(10000, config['input_dim'])\n",
    "valset = kae_dataset(100, config['input_dim'])\n",
    "trainloader = DataLoader(trainset, batch_size=config['batch_size'], shuffle=True)\n",
    "valloader = DataLoader(valset, batch_size=config['batch_size'], shuffle=False)"
   ]
  },
  {
   "cell_type": "code",
   "execution_count": 22,
   "id": "ea37bffd-866b-41ea-9124-b7c7e79eec43",
   "metadata": {},
   "outputs": [],
   "source": [
    "class KAE(torch.nn.Module):\n",
    "    def __init__(\n",
    "        self,\n",
    "        layers_hidden,\n",
    "        input_dim,\n",
    "    ):\n",
    "        super(KAE, self).__init__()\n",
    "        self.encoder = KAN([input_dim, layers_hidden[0], layers_hidden[1]])\n",
    "        self.decoder = KAN([layers_hidden[1], layers_hidden[0], input_dim])\n",
    "\n",
    "    def forward(self, x: torch.Tensor):\n",
    "        x = self.decoder(self.encoder(x))\n",
    "        return x"
   ]
  },
  {
   "cell_type": "code",
   "execution_count": 23,
   "id": "ea7abdbc-df71-480f-8ff0-8c2cc090b087",
   "metadata": {},
   "outputs": [],
   "source": [
    "# Define model\n",
    "device = torch.device(\"cuda\" if torch.cuda.is_available() else \"cpu\")\n",
    "model = KAE(layers_hidden=config['hidden_layers'], input_dim=config['input_dim'])\n",
    "model.to(device)\n",
    "# Define optimizer\n",
    "optimizer = optim.AdamW(model.parameters(), lr=config['lr'], weight_decay=1e-4)\n",
    "# Define learning rate scheduler\n",
    "scheduler = optim.lr_scheduler.ExponentialLR(optimizer, gamma=0.8)\n",
    "\n",
    "# Define loss\n",
    "criterion = nn.MSELoss()"
   ]
  },
  {
   "cell_type": "code",
   "execution_count": 24,
   "id": "808fcac2-2fa3-498f-bfde-1eab7891a528",
   "metadata": {},
   "outputs": [
    {
     "name": "stderr",
     "output_type": "stream",
     "text": [
      "100%|██████████| 157/157 [00:03<00:00, 45.01it/s, loss=0.0194, lr=0.001] \n"
     ]
    },
    {
     "name": "stdout",
     "output_type": "stream",
     "text": [
      "Epoch 1, Val Loss: 0.0056625246070325375\n"
     ]
    },
    {
     "name": "stderr",
     "output_type": "stream",
     "text": [
      "100%|██████████| 157/157 [00:03<00:00, 45.12it/s, loss=0.00203, lr=0.0008] \n"
     ]
    },
    {
     "name": "stdout",
     "output_type": "stream",
     "text": [
      "Epoch 2, Val Loss: 0.000848717987537384\n"
     ]
    },
    {
     "name": "stderr",
     "output_type": "stream",
     "text": [
      "100%|██████████| 157/157 [00:03<00:00, 45.15it/s, loss=0.000341, lr=0.00064]\n"
     ]
    },
    {
     "name": "stdout",
     "output_type": "stream",
     "text": [
      "Epoch 3, Val Loss: 0.00034628852154128253\n"
     ]
    },
    {
     "name": "stderr",
     "output_type": "stream",
     "text": [
      "100%|██████████| 157/157 [00:03<00:00, 47.27it/s, loss=0.000256, lr=0.000512]\n"
     ]
    },
    {
     "name": "stdout",
     "output_type": "stream",
     "text": [
      "Epoch 4, Val Loss: 0.00020428435527719557\n"
     ]
    },
    {
     "name": "stderr",
     "output_type": "stream",
     "text": [
      "100%|██████████| 157/157 [00:03<00:00, 46.46it/s, loss=0.000103, lr=0.00041]\n"
     ]
    },
    {
     "name": "stdout",
     "output_type": "stream",
     "text": [
      "Epoch 5, Val Loss: 0.00015337508375523612\n"
     ]
    },
    {
     "name": "stderr",
     "output_type": "stream",
     "text": [
      "100%|██████████| 157/157 [00:03<00:00, 44.89it/s, loss=6.7e-5, lr=0.000328]  \n"
     ]
    },
    {
     "name": "stdout",
     "output_type": "stream",
     "text": [
      "Epoch 6, Val Loss: 0.0001200814986077603\n"
     ]
    },
    {
     "name": "stderr",
     "output_type": "stream",
     "text": [
      "100%|██████████| 157/157 [00:03<00:00, 47.26it/s, loss=0.000109, lr=0.000262]\n"
     ]
    },
    {
     "name": "stdout",
     "output_type": "stream",
     "text": [
      "Epoch 7, Val Loss: 0.00010019696128438227\n"
     ]
    },
    {
     "name": "stderr",
     "output_type": "stream",
     "text": [
      "100%|██████████| 157/157 [00:03<00:00, 47.15it/s, loss=8.18e-5, lr=0.00021] \n"
     ]
    },
    {
     "name": "stdout",
     "output_type": "stream",
     "text": [
      "Epoch 8, Val Loss: 8.816278932499699e-05\n"
     ]
    },
    {
     "name": "stderr",
     "output_type": "stream",
     "text": [
      "100%|██████████| 157/157 [00:03<00:00, 44.28it/s, loss=0.000205, lr=0.000168]\n"
     ]
    },
    {
     "name": "stdout",
     "output_type": "stream",
     "text": [
      "Epoch 9, Val Loss: 8.009559678612277e-05\n"
     ]
    },
    {
     "name": "stderr",
     "output_type": "stream",
     "text": [
      "100%|██████████| 157/157 [00:03<00:00, 46.47it/s, loss=5.29e-5, lr=0.000134] \n"
     ]
    },
    {
     "name": "stdout",
     "output_type": "stream",
     "text": [
      "Epoch 10, Val Loss: 7.336376620514784e-05\n"
     ]
    }
   ],
   "source": [
    "for epoch in range(10):\n",
    "    # Train\n",
    "    model.train()\n",
    "    with tqdm(trainloader) as pbar:\n",
    "        for i, targets in enumerate(pbar):\n",
    "            targets = targets.view(-1, config['input_dim']).to(device)\n",
    "            optimizer.zero_grad()\n",
    "            output = model(targets)\n",
    "            loss = criterion(output, targets)\n",
    "            loss.backward()\n",
    "            optimizer.step()\n",
    "            pbar.set_postfix(loss=loss.item(), lr=optimizer.param_groups[0]['lr'])\n",
    "\n",
    "    # Validation\n",
    "    model.eval()\n",
    "    val_loss = 0\n",
    "    with torch.no_grad():\n",
    "        for targets in valloader:\n",
    "            targets = targets.view(-1, config['input_dim']).to(device)\n",
    "            output = model(targets)\n",
    "            val_loss += criterion(output, targets).item()\n",
    "            \n",
    "    val_loss /= len(valloader)\n",
    "\n",
    "    # Update learning rate\n",
    "    scheduler.step()\n",
    "\n",
    "    print(\n",
    "        f\"Epoch {epoch + 1}, Val Loss: {val_loss}\"\n",
    "    )"
   ]
  },
  {
   "cell_type": "code",
   "execution_count": null,
   "id": "e80dbef2-2481-4bf5-b6d6-f4a0b6b5622e",
   "metadata": {},
   "outputs": [],
   "source": []
  }
 ],
 "metadata": {
  "kernelspec": {
   "display_name": "Python 3 (ipykernel)",
   "language": "python",
   "name": "python3"
  },
  "language_info": {
   "codemirror_mode": {
    "name": "ipython",
    "version": 3
   },
   "file_extension": ".py",
   "mimetype": "text/x-python",
   "name": "python",
   "nbconvert_exporter": "python",
   "pygments_lexer": "ipython3",
   "version": "3.9.15"
  }
 },
 "nbformat": 4,
 "nbformat_minor": 5
}
