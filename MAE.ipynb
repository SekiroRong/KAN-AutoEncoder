{
 "cells": [
  {
   "cell_type": "code",
   "execution_count": 17,
   "id": "35566e17-bf63-4588-aaa5-b5076fdb27cd",
   "metadata": {},
   "outputs": [],
   "source": [
    "import torch\n",
    "import torch.nn as nn\n",
    "import torch.optim as optim\n",
    "import torchvision\n",
    "import torchvision.transforms as transforms\n",
    "from torch.utils.data import DataLoader\n",
    "from torch.utils.data import Dataset\n",
    "from tqdm import tqdm"
   ]
  },
  {
   "cell_type": "code",
   "execution_count": 18,
   "id": "46ccf85d-c244-4f9f-b451-24e65afd390e",
   "metadata": {},
   "outputs": [],
   "source": [
    "import numpy as np\n",
    "import random"
   ]
  },
  {
   "cell_type": "code",
   "execution_count": 19,
   "id": "1050e709-6553-4d31-9ab2-87fdcd822682",
   "metadata": {},
   "outputs": [],
   "source": [
    "config = {}\n",
    "config['input_dim'] = 128\n",
    "config['batch_size'] = 64\n",
    "config['hidden_layers'] = [64, 5]\n",
    "config['lr'] = 1e-3"
   ]
  },
  {
   "cell_type": "code",
   "execution_count": 20,
   "id": "13d59dd0-2295-42ef-92f6-91ba4779c21b",
   "metadata": {},
   "outputs": [],
   "source": [
    "class kae_dataset(Dataset):\n",
    "    def __init__(self, num_data=100, input_dim=128):\n",
    "        super(kae_dataset, self).__init__()\n",
    "        self.num_data = num_data\n",
    "        self.target = []\n",
    "        for i in range(num_data):\n",
    "            scale = random.random()\n",
    "            phase_left = random.random() + 0.1\n",
    "            phase_right = random.random() + 0.1\n",
    "            x=np.arange(-phase_left*2*np.pi,phase_right*2*np.pi,(phase_right*2*np.pi+phase_left*2*np.pi)/input_dim)\n",
    "            x=x.reshape(len(x),1)\n",
    "            y=scale * np.sin(x)\n",
    "            self.target.append(y)\n",
    "\n",
    "    def __getitem__(self, index):\n",
    "        target = torch.from_numpy(self.target[index]).squeeze().unsqueeze(0).to(torch.float32)\n",
    "        return target\n",
    "\n",
    "    def __len__(self):\n",
    "        return len(self.target)\n",
    "\n",
    "trainset = kae_dataset(10000, config['input_dim'])\n",
    "valset = kae_dataset(100, config['input_dim'])\n",
    "trainloader = DataLoader(trainset, batch_size=config['batch_size'], shuffle=True)\n",
    "valloader = DataLoader(valset, batch_size=config['batch_size'], shuffle=False)"
   ]
  },
  {
   "cell_type": "code",
   "execution_count": 21,
   "id": "3861e50b-efc4-4ab9-bcca-666a8f3f9bce",
   "metadata": {},
   "outputs": [],
   "source": [
    "class MAE(torch.nn.Module):\n",
    "    def __init__(\n",
    "        self,\n",
    "        layers_hidden,\n",
    "        input_dim,\n",
    "    ):\n",
    "        super(MAE, self).__init__()\n",
    "        self.model = nn.Sequential(\n",
    "            nn.Linear(input_dim, layers_hidden[0]),\n",
    "            nn.Linear(layers_hidden[0], layers_hidden[1]),\n",
    "            nn.Linear(layers_hidden[1], layers_hidden[0]),\n",
    "            nn.Linear(layers_hidden[0], input_dim)\n",
    "            )\n",
    "\n",
    "    def forward(self, x: torch.Tensor):\n",
    "        x = self.model(x)\n",
    "        return x"
   ]
  },
  {
   "cell_type": "code",
   "execution_count": 22,
   "id": "b09e1058-e264-4a81-8961-22ca4e59a565",
   "metadata": {},
   "outputs": [],
   "source": [
    "# Define model\n",
    "device = torch.device(\"cuda\" if torch.cuda.is_available() else \"cpu\")\n",
    "model = MAE(layers_hidden=config['hidden_layers'], input_dim=config['input_dim'])\n",
    "model.to(device)\n",
    "# Define optimizer\n",
    "optimizer = optim.AdamW(model.parameters(), lr=config['lr'], weight_decay=1e-4)\n",
    "# Define learning rate scheduler\n",
    "scheduler = optim.lr_scheduler.ExponentialLR(optimizer, gamma=0.8)\n",
    "\n",
    "# Define loss\n",
    "criterion = nn.MSELoss()"
   ]
  },
  {
   "cell_type": "code",
   "execution_count": 23,
   "id": "6d165f68-340d-49c5-a2bf-98000560001f",
   "metadata": {},
   "outputs": [
    {
     "name": "stderr",
     "output_type": "stream",
     "text": [
      "100%|██████████| 157/157 [00:01<00:00, 101.81it/s, loss=0.00519, lr=0.001]\n"
     ]
    },
    {
     "name": "stdout",
     "output_type": "stream",
     "text": [
      "Epoch 1, Val Loss: 0.004964141175150871\n"
     ]
    },
    {
     "name": "stderr",
     "output_type": "stream",
     "text": [
      "100%|██████████| 157/157 [00:01<00:00, 99.16it/s, loss=0.00844, lr=0.0008]  \n"
     ]
    },
    {
     "name": "stdout",
     "output_type": "stream",
     "text": [
      "Epoch 2, Val Loss: 0.0026078533264808357\n"
     ]
    },
    {
     "name": "stderr",
     "output_type": "stream",
     "text": [
      "100%|██████████| 157/157 [00:01<00:00, 102.79it/s, loss=0.00119, lr=0.00064] \n"
     ]
    },
    {
     "name": "stdout",
     "output_type": "stream",
     "text": [
      "Epoch 3, Val Loss: 0.0026384599623270333\n"
     ]
    },
    {
     "name": "stderr",
     "output_type": "stream",
     "text": [
      "100%|██████████| 157/157 [00:01<00:00, 101.56it/s, loss=0.00255, lr=0.000512]\n"
     ]
    },
    {
     "name": "stdout",
     "output_type": "stream",
     "text": [
      "Epoch 4, Val Loss: 0.0024633380817249417\n"
     ]
    },
    {
     "name": "stderr",
     "output_type": "stream",
     "text": [
      "100%|██████████| 157/157 [00:01<00:00, 97.51it/s, loss=0.00117, lr=0.00041] \n"
     ]
    },
    {
     "name": "stdout",
     "output_type": "stream",
     "text": [
      "Epoch 5, Val Loss: 0.0024914569803513587\n"
     ]
    },
    {
     "name": "stderr",
     "output_type": "stream",
     "text": [
      "100%|██████████| 157/157 [00:01<00:00, 103.94it/s, loss=0.00847, lr=0.000328]\n"
     ]
    },
    {
     "name": "stdout",
     "output_type": "stream",
     "text": [
      "Epoch 6, Val Loss: 0.0026117953239008784\n"
     ]
    },
    {
     "name": "stderr",
     "output_type": "stream",
     "text": [
      "100%|██████████| 157/157 [00:01<00:00, 81.59it/s, loss=0.00344, lr=0.000262]\n"
     ]
    },
    {
     "name": "stdout",
     "output_type": "stream",
     "text": [
      "Epoch 7, Val Loss: 0.002459672396071255\n"
     ]
    },
    {
     "name": "stderr",
     "output_type": "stream",
     "text": [
      "100%|██████████| 157/157 [00:01<00:00, 80.13it/s, loss=0.00199, lr=0.00021] \n"
     ]
    },
    {
     "name": "stdout",
     "output_type": "stream",
     "text": [
      "Epoch 8, Val Loss: 0.0025119019555859268\n"
     ]
    },
    {
     "name": "stderr",
     "output_type": "stream",
     "text": [
      "100%|██████████| 157/157 [00:02<00:00, 76.09it/s, loss=0.000763, lr=0.000168]\n"
     ]
    },
    {
     "name": "stdout",
     "output_type": "stream",
     "text": [
      "Epoch 9, Val Loss: 0.0025147462729364634\n"
     ]
    },
    {
     "name": "stderr",
     "output_type": "stream",
     "text": [
      "100%|██████████| 157/157 [00:01<00:00, 80.17it/s, loss=0.000616, lr=0.000134]\n"
     ]
    },
    {
     "name": "stdout",
     "output_type": "stream",
     "text": [
      "Epoch 10, Val Loss: 0.0025913557037711143\n"
     ]
    }
   ],
   "source": [
    "for epoch in range(10):\n",
    "    # Train\n",
    "    model.train()\n",
    "    with tqdm(trainloader) as pbar:\n",
    "        for i, targets in enumerate(pbar):\n",
    "            targets = targets.view(-1, config['input_dim']).to(device)\n",
    "            optimizer.zero_grad()\n",
    "            output = model(targets)\n",
    "            loss = criterion(output, targets)\n",
    "            loss.backward()\n",
    "            optimizer.step()\n",
    "            pbar.set_postfix(loss=loss.item(), lr=optimizer.param_groups[0]['lr'])\n",
    "\n",
    "    # Validation\n",
    "    model.eval()\n",
    "    val_loss = 0\n",
    "    with torch.no_grad():\n",
    "        for targets in valloader:\n",
    "            targets = targets.view(-1, config['input_dim']).to(device)\n",
    "            output = model(targets)\n",
    "            val_loss += criterion(output, targets).item()\n",
    "            \n",
    "    val_loss /= len(valloader)\n",
    "\n",
    "    # Update learning rate\n",
    "    scheduler.step()\n",
    "\n",
    "    print(\n",
    "        f\"Epoch {epoch + 1}, Val Loss: {val_loss}\"\n",
    "    )"
   ]
  },
  {
   "cell_type": "code",
   "execution_count": null,
   "id": "b0633f5c-0ed6-4626-8655-53310baf61f4",
   "metadata": {},
   "outputs": [],
   "source": []
  }
 ],
 "metadata": {
  "kernelspec": {
   "display_name": "Python 3 (ipykernel)",
   "language": "python",
   "name": "python3"
  },
  "language_info": {
   "codemirror_mode": {
    "name": "ipython",
    "version": 3
   },
   "file_extension": ".py",
   "mimetype": "text/x-python",
   "name": "python",
   "nbconvert_exporter": "python",
   "pygments_lexer": "ipython3",
   "version": "3.9.15"
  }
 },
 "nbformat": 4,
 "nbformat_minor": 5
}
