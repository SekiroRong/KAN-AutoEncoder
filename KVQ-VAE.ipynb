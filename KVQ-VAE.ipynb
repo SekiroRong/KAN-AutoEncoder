{
 "cells": [
  {
   "cell_type": "code",
   "execution_count": 1,
   "id": "b9bb0fbc-5031-45ea-aa9e-24abe6e40715",
   "metadata": {},
   "outputs": [],
   "source": [
    "import os\n",
    "os.environ['CUDA_VISIBLE_DEVICES'] = '1'"
   ]
  },
  {
   "cell_type": "code",
   "execution_count": 2,
   "id": "6fcd0ff9-63ea-43bd-9752-8bb10945573e",
   "metadata": {},
   "outputs": [
    {
     "name": "stderr",
     "output_type": "stream",
     "text": [
      "/root/anaconda3/envs/pytorch/lib/python3.9/site-packages/tqdm/auto.py:21: TqdmWarning: IProgress not found. Please update jupyter and ipywidgets. See https://ipywidgets.readthedocs.io/en/stable/user_install.html\n",
      "  from .autonotebook import tqdm as notebook_tqdm\n"
     ]
    }
   ],
   "source": [
    "from src.efficient_kan import KAN"
   ]
  },
  {
   "cell_type": "code",
   "execution_count": 3,
   "id": "8bf01677-5b8a-42db-9ba9-4adf02aa9df0",
   "metadata": {},
   "outputs": [],
   "source": [
    "import torch\n",
    "import torch.nn as nn\n",
    "import torch.optim as optim\n",
    "import torchvision\n",
    "import torchvision.transforms as transforms\n",
    "from torch.utils.data import DataLoader\n",
    "from torch.utils.data import Dataset\n",
    "import torch.nn.functional as F\n",
    "from tqdm import tqdm"
   ]
  },
  {
   "cell_type": "code",
   "execution_count": 4,
   "id": "86d40206-fd5c-41dc-bbe0-7689fd5be909",
   "metadata": {},
   "outputs": [],
   "source": [
    "import numpy as np\n",
    "import random"
   ]
  },
  {
   "cell_type": "code",
   "execution_count": 23,
   "id": "94912aa5-ca56-4a82-bc5e-7594f2bceea1",
   "metadata": {},
   "outputs": [],
   "source": [
    "config = {}\n",
    "config['input_dim'] = 1024*16\n",
    "config['batch_size'] = 64\n",
    "config['hidden_layers'] = [1024, 256]\n",
    "config['lr'] = 1e-3\n",
    "config['gamma'] = 0.9\n",
    "config['period'] = 2"
   ]
  },
  {
   "cell_type": "code",
   "execution_count": 24,
   "id": "3702b51b-4027-44c9-af39-4886b8da8d6c",
   "metadata": {},
   "outputs": [],
   "source": [
    "class kae_dataset(Dataset):\n",
    "    def __init__(self, num_data=100, input_dim=128):\n",
    "        super(kae_dataset, self).__init__()\n",
    "        self.num_data = num_data\n",
    "        self.target = []\n",
    "        for i in range(num_data):\n",
    "            scale = random.random()\n",
    "            phase_left = random.random() + 0.1\n",
    "            phase_right = random.random() + 0.1\n",
    "            x=np.arange(-phase_left*2*np.pi*config['period'],phase_right*2*np.pi*config['period'],(phase_right*2*np.pi+phase_left*2*np.pi)*config['period']/input_dim)\n",
    "            x=x.reshape(len(x),1)\n",
    "            y=scale * np.sin(x)\n",
    "            self.target.append(y)\n",
    "\n",
    "    def __getitem__(self, index):\n",
    "        target = torch.from_numpy(self.target[index]).squeeze().unsqueeze(0).to(torch.float32)\n",
    "        return target\n",
    "\n",
    "    def __len__(self):\n",
    "        return len(self.target)\n",
    "\n",
    "trainset = kae_dataset(10000, config['input_dim'])\n",
    "valset = kae_dataset(100, config['input_dim'])\n",
    "trainloader = DataLoader(trainset, batch_size=config['batch_size'], shuffle=True)\n",
    "valloader = DataLoader(valset, batch_size=config['batch_size'], shuffle=False)"
   ]
  },
  {
   "cell_type": "code",
   "execution_count": 25,
   "id": "2cddd415-6004-408a-b0d8-82c0453ed139",
   "metadata": {},
   "outputs": [],
   "source": [
    "class VectorQuantizer(nn.Module):\n",
    "    \"\"\"\n",
    "    Reference:\n",
    "    [1] https://github.com/deepmind/sonnet/blob/v2/sonnet/src/nets/vqvae.py\n",
    "    \"\"\"\n",
    "    def __init__(self,\n",
    "                 num_embeddings: int,\n",
    "                 embedding_dim: int,\n",
    "                 beta: float = 0.25):\n",
    "        super(VectorQuantizer, self).__init__()\n",
    "        self.K = num_embeddings\n",
    "        self.D = embedding_dim\n",
    "        self.beta = beta\n",
    "\n",
    "        self.embedding = nn.Embedding(self.K, self.D)\n",
    "        self.embedding.weight.data.uniform_(-1 / self.K, 1 / self.K)\n",
    "\n",
    "    def forward(self, latents):\n",
    "        # Compute L2 distance between latents and embedding weights\n",
    "        dist = torch.sum(latents ** 2, dim=1, keepdim=True) + \\\n",
    "               torch.sum(self.embedding.weight ** 2, dim=1) - \\\n",
    "               2 * torch.matmul(latents, self.embedding.weight.t())  # [BHW x K]\n",
    "\n",
    "        # Get the encoding that has the min distance\n",
    "        encoding_inds = torch.argmin(dist, dim=1).unsqueeze(1)  # [BHW, 1]\n",
    "\n",
    "        # Convert to one-hot encodings\n",
    "        device = latents.device\n",
    "        encoding_one_hot = torch.zeros(encoding_inds.size(0), self.K, device=device)\n",
    "        encoding_one_hot.scatter_(1, encoding_inds, 1)  # [BHW x K]\n",
    "\n",
    "        # Quantize the latents\n",
    "        quantized_latents = torch.matmul(encoding_one_hot, self.embedding.weight)  # [BHW, D]\n",
    "\n",
    "        # Compute the VQ Losses\n",
    "        commitment_loss = F.mse_loss(quantized_latents.detach(), latents)\n",
    "        embedding_loss = F.mse_loss(quantized_latents, latents.detach())\n",
    "\n",
    "        vq_loss = commitment_loss * self.beta + embedding_loss\n",
    "\n",
    "        # Add the residue back to the latents\n",
    "        quantized_latents = latents + (quantized_latents - latents).detach()\n",
    "\n",
    "        return quantized_latents, vq_loss  # [B x D x H x W]\n",
    "        \n",
    "class KVQ_VAE(torch.nn.Module):\n",
    "    def __init__(\n",
    "        self,\n",
    "        layers_hidden,\n",
    "        input_dim,\n",
    "        K,\n",
    "        beta,\n",
    "    ):\n",
    "        super(KVQ_VAE, self).__init__()\n",
    "        self.layers_hidden = layers_hidden\n",
    "        self.input_dim = input_dim\n",
    "        self.K = K\n",
    "        self.beta = beta\n",
    "        self.encoder = KAN([input_dim, layers_hidden[0], layers_hidden[1]])\n",
    "        self.VQ = VectorQuantizer(self.K, layers_hidden[1], beta=self.beta)\n",
    "        self.decoder = KAN([layers_hidden[1], layers_hidden[0], input_dim])\n",
    "\n",
    "    def encode(self, input):\n",
    "        posterior_dist = self.encoder(input)\n",
    "\n",
    "        # Split the result into miu and sigma components\n",
    "        # of the latent Gaussian distribution\n",
    "\n",
    "        return posterior_dist\n",
    "\n",
    "    def decode(self, z):\n",
    "        priori_dist = self.decoder(z)\n",
    "        return priori_dist\n",
    "\n",
    "    def forward(self, input, **kwargs):\n",
    "        encoding = self.encode(input)\n",
    "        quantized_inputs, vq_loss = self.VQ(encoding)\n",
    "        return [self.decode(quantized_inputs), vq_loss]\n",
    "\n",
    "    def loss_function(self,\n",
    "                      input, \n",
    "                      ouput, \n",
    "                      vq_loss):\n",
    "\n",
    "        recons_loss = F.mse_loss(ouput, input)\n",
    "\n",
    "        loss = recons_loss + 10*vq_loss\n",
    "        return {'loss': loss,\n",
    "                'Reconstruction_Loss': recons_loss,\n",
    "                'VQ_Loss':vq_loss}\n"
   ]
  },
  {
   "cell_type": "code",
   "execution_count": 26,
   "id": "d8f638a2-b178-443d-a807-49264b9a0eb4",
   "metadata": {},
   "outputs": [],
   "source": [
    "# Define model\n",
    "device = torch.device(\"cuda\" if torch.cuda.is_available() else \"cpu\")\n",
    "model = KVQ_VAE(layers_hidden=config['hidden_layers'], input_dim=config['input_dim'], K=1024, beta=20)\n",
    "model.to(device)\n",
    "# Define optimizer\n",
    "optimizer = optim.AdamW(model.parameters(), lr=config['lr'], weight_decay=1e-4)\n",
    "# Define learning rate scheduler\n",
    "scheduler = optim.lr_scheduler.ExponentialLR(optimizer, gamma=config['gamma'])\n",
    "\n",
    "# Define loss\n",
    "criterion = nn.MSELoss()"
   ]
  },
  {
   "cell_type": "code",
   "execution_count": 27,
   "id": "d87706c4-ef8e-44b0-976d-73812a5fb475",
   "metadata": {},
   "outputs": [
    {
     "name": "stderr",
     "output_type": "stream",
     "text": [
      "100%|██████████| 157/157 [00:08<00:00, 19.21it/s, loss=0.0976, lr=0.001, recon_loss=0.0749, vq_loss=0.00228]\n"
     ]
    },
    {
     "name": "stdout",
     "output_type": "stream",
     "text": [
      "Epoch 1, Val Loss: 0.10498609393835068\n"
     ]
    },
    {
     "name": "stderr",
     "output_type": "stream",
     "text": [
      "100%|██████████| 157/157 [00:08<00:00, 19.58it/s, loss=0.0386, lr=0.0009, recon_loss=0.0313, vq_loss=0.000737]\n"
     ]
    },
    {
     "name": "stdout",
     "output_type": "stream",
     "text": [
      "Epoch 2, Val Loss: 0.051583174616098404\n"
     ]
    },
    {
     "name": "stderr",
     "output_type": "stream",
     "text": [
      "100%|██████████| 157/157 [00:07<00:00, 19.84it/s, loss=0.0305, lr=0.00081, recon_loss=0.017, vq_loss=0.00135]  \n"
     ]
    },
    {
     "name": "stdout",
     "output_type": "stream",
     "text": [
      "Epoch 3, Val Loss: 0.04014810919761658\n"
     ]
    },
    {
     "name": "stderr",
     "output_type": "stream",
     "text": [
      "100%|██████████| 157/157 [00:07<00:00, 19.71it/s, loss=0.0226, lr=0.000729, recon_loss=0.0131, vq_loss=0.000951]\n"
     ]
    },
    {
     "name": "stdout",
     "output_type": "stream",
     "text": [
      "Epoch 4, Val Loss: 0.03453323617577553\n"
     ]
    },
    {
     "name": "stderr",
     "output_type": "stream",
     "text": [
      "100%|██████████| 157/157 [00:07<00:00, 20.23it/s, loss=0.0283, lr=0.000656, recon_loss=0.0154, vq_loss=0.00129] \n"
     ]
    },
    {
     "name": "stdout",
     "output_type": "stream",
     "text": [
      "Epoch 5, Val Loss: 0.034112850204110146\n"
     ]
    },
    {
     "name": "stderr",
     "output_type": "stream",
     "text": [
      "100%|██████████| 157/157 [00:07<00:00, 20.23it/s, loss=0.0348, lr=0.00059, recon_loss=0.0186, vq_loss=0.00162]\n"
     ]
    },
    {
     "name": "stdout",
     "output_type": "stream",
     "text": [
      "Epoch 6, Val Loss: 0.03113653976470232\n"
     ]
    },
    {
     "name": "stderr",
     "output_type": "stream",
     "text": [
      "100%|██████████| 157/157 [00:07<00:00, 20.01it/s, loss=0.0243, lr=0.000531, recon_loss=0.0123, vq_loss=0.0012]  \n"
     ]
    },
    {
     "name": "stdout",
     "output_type": "stream",
     "text": [
      "Epoch 7, Val Loss: 0.03292657807469368\n"
     ]
    },
    {
     "name": "stderr",
     "output_type": "stream",
     "text": [
      "100%|██████████| 157/157 [00:07<00:00, 19.66it/s, loss=0.0233, lr=0.000478, recon_loss=0.0118, vq_loss=0.00115] \n"
     ]
    },
    {
     "name": "stdout",
     "output_type": "stream",
     "text": [
      "Epoch 8, Val Loss: 0.031142178922891617\n"
     ]
    },
    {
     "name": "stderr",
     "output_type": "stream",
     "text": [
      "100%|██████████| 157/157 [00:07<00:00, 20.08it/s, loss=0.0221, lr=0.00043, recon_loss=0.0117, vq_loss=0.00105] \n"
     ]
    },
    {
     "name": "stdout",
     "output_type": "stream",
     "text": [
      "Epoch 9, Val Loss: 0.031238263472914696\n"
     ]
    },
    {
     "name": "stderr",
     "output_type": "stream",
     "text": [
      "100%|██████████| 157/157 [00:07<00:00, 20.22it/s, loss=0.0267, lr=0.000387, recon_loss=0.0148, vq_loss=0.00118]  \n"
     ]
    },
    {
     "name": "stdout",
     "output_type": "stream",
     "text": [
      "Epoch 10, Val Loss: 0.03166843205690384\n"
     ]
    }
   ],
   "source": [
    "for epoch in range(10):\n",
    "    # Train\n",
    "    model.train()\n",
    "    with tqdm(trainloader) as pbar:\n",
    "        for i, targets in enumerate(pbar):\n",
    "            targets = targets.view(-1, config['input_dim']).to(device)\n",
    "            optimizer.zero_grad()\n",
    "            output, vq_loss = model(targets)\n",
    "            loss = model.loss_function(output, targets, vq_loss)\n",
    "            loss['loss'].backward()\n",
    "            optimizer.step()\n",
    "            pbar.set_postfix(loss=loss['loss'].item(), recon_loss=loss['Reconstruction_Loss'].item(), vq_loss=loss['VQ_Loss'].item(), lr=optimizer.param_groups[0]['lr'])\n",
    "\n",
    "    # Validation\n",
    "    model.eval()\n",
    "    val_loss = 0\n",
    "    with torch.no_grad():\n",
    "        for targets in valloader:\n",
    "            targets = targets.view(-1, config['input_dim']).to(device)\n",
    "            output, vq_loss = model(targets)\n",
    "            loss = model.loss_function(output, targets, vq_loss)\n",
    "            val_loss += loss['loss'].item()\n",
    "            \n",
    "    val_loss /= len(valloader)\n",
    "\n",
    "    # Update learning rate\n",
    "    scheduler.step()\n",
    "\n",
    "    print(\n",
    "        f\"Epoch {epoch + 1}, Val Loss: {val_loss}\"\n",
    "    )"
   ]
  },
  {
   "cell_type": "code",
   "execution_count": 10,
   "id": "7d4d7d53-f9af-4ce9-82a8-6eb4c363e9f3",
   "metadata": {},
   "outputs": [],
   "source": [
    "import matplotlib.pyplot as plt"
   ]
  },
  {
   "cell_type": "code",
   "execution_count": 29,
   "id": "78df437c-ba35-4d42-856c-6ff90bf61bd7",
   "metadata": {},
   "outputs": [
    {
     "data": {
      "image/png": "[encoded data removed]",
      "text/plain": [
       "<Figure size 640x480 with 1 Axes>"
      ]
     },
     "metadata": {},
     "output_type": "display_data"
    }
   ],
   "source": [
    "idx = 20\n",
    "pred = model(trainset[idx].to(device))[0].detach().cpu().numpy()[0]\n",
    "x = np.linspace(0, config['input_dim'], config['input_dim'])\n",
    "plt.plot(x, pred, label='recon_signal')\n",
    "plt.plot(x, trainset[idx][0], label='ori_signal')\n",
    "plt.xlabel('x')\n",
    "plt.ylabel('KVAE(x)')\n",
    "plt.title('KVAE')\n",
    "plt.legend()\n",
    "plt.savefig('assets/recon_signal.jpg')\n",
    "plt.show()"
   ]
  }
 ],
 "metadata": {
  "kernelspec": {
   "display_name": "Python 3 (ipykernel)",
   "language": "python",
   "name": "python3"
  },
  "language_info": {
   "codemirror_mode": {
    "name": "ipython",
    "version": 3
   },
   "file_extension": ".py",
   "mimetype": "text/x-python",
   "name": "python",
   "nbconvert_exporter": "python",
   "pygments_lexer": "ipython3",
   "version": "3.9.15"
  }
 },
 "nbformat": 4,
 "nbformat_minor": 5
}
