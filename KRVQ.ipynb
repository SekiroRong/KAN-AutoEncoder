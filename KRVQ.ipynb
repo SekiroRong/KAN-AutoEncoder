{
 "cells": [
  {
   "cell_type": "code",
   "execution_count": 1,
   "id": "b9bb0fbc-5031-45ea-aa9e-24abe6e40715",
   "metadata": {},
   "outputs": [],
   "source": [
    "import os\n",
    "os.environ['CUDA_VISIBLE_DEVICES'] = '1'"
   ]
  },
  {
   "cell_type": "code",
   "execution_count": 2,
   "id": "6fcd0ff9-63ea-43bd-9752-8bb10945573e",
   "metadata": {},
   "outputs": [
    {
     "name": "stderr",
     "output_type": "stream",
     "text": [
      "/root/anaconda3/envs/pytorch/lib/python3.9/site-packages/tqdm/auto.py:21: TqdmWarning: IProgress not found. Please update jupyter and ipywidgets. See https://ipywidgets.readthedocs.io/en/stable/user_install.html\n",
      "  from .autonotebook import tqdm as notebook_tqdm\n"
     ]
    }
   ],
   "source": [
    "from src.efficient_kan import KAN"
   ]
  },
  {
   "cell_type": "code",
   "execution_count": 14,
   "id": "8bf01677-5b8a-42db-9ba9-4adf02aa9df0",
   "metadata": {},
   "outputs": [],
   "source": [
    "import torch\n",
    "import torch.nn as nn\n",
    "import torch.optim as optim\n",
    "import torchvision\n",
    "import torchvision.transforms as transforms\n",
    "from torch.utils.data import DataLoader\n",
    "from torch.utils.data import Dataset\n",
    "import torch.nn.functional as F\n",
    "from torch.nn import init\n",
    "from tqdm import tqdm"
   ]
  },
  {
   "cell_type": "code",
   "execution_count": 9,
   "id": "86d40206-fd5c-41dc-bbe0-7689fd5be909",
   "metadata": {},
   "outputs": [],
   "source": [
    "import numpy as np\n",
    "import random\n",
    "from typing import Tuple, List, Optional"
   ]
  },
  {
   "cell_type": "code",
   "execution_count": 45,
   "id": "94912aa5-ca56-4a82-bc5e-7594f2bceea1",
   "metadata": {},
   "outputs": [],
   "source": [
    "config = {}\n",
    "config['input_dim'] = 1024*16\n",
    "config['batch_size'] = 64\n",
    "config['hidden_layers'] = [1024, 256]\n",
    "config['lr'] = 1e-3\n",
    "config['gamma'] = 0.9\n",
    "config['period'] = 2"
   ]
  },
  {
   "cell_type": "code",
   "execution_count": 6,
   "id": "3702b51b-4027-44c9-af39-4886b8da8d6c",
   "metadata": {},
   "outputs": [],
   "source": [
    "class kae_dataset(Dataset):\n",
    "    def __init__(self, num_data=100, input_dim=128):\n",
    "        super(kae_dataset, self).__init__()\n",
    "        self.num_data = num_data\n",
    "        self.target = []\n",
    "        for i in range(num_data):\n",
    "            scale = random.random()\n",
    "            phase_left = random.random() + 0.1\n",
    "            phase_right = random.random() + 0.1\n",
    "            x=np.arange(-phase_left*2*np.pi*config['period'],phase_right*2*np.pi*config['period'],(phase_right*2*np.pi+phase_left*2*np.pi)*config['period']/input_dim)\n",
    "            x=x.reshape(len(x),1)\n",
    "            y=scale * np.sin(x)\n",
    "            self.target.append(y)\n",
    "\n",
    "    def __getitem__(self, index):\n",
    "        target = torch.from_numpy(self.target[index]).squeeze().unsqueeze(0).to(torch.float32)\n",
    "        return target\n",
    "\n",
    "    def __len__(self):\n",
    "        return len(self.target)\n",
    "\n",
    "trainset = kae_dataset(10000, config['input_dim'])\n",
    "valset = kae_dataset(100, config['input_dim'])\n",
    "trainloader = DataLoader(trainset, batch_size=config['batch_size'], shuffle=True)\n",
    "valloader = DataLoader(valset, batch_size=config['batch_size'], shuffle=False)"
   ]
  },
  {
   "cell_type": "code",
   "execution_count": 33,
   "id": "2cddd415-6004-408a-b0d8-82c0453ed139",
   "metadata": {},
   "outputs": [],
   "source": [
    "class ResidualVectorQuantizer(nn.Module):\n",
    "    weight: torch.Tensor\n",
    "    running_mean: torch.Tensor\n",
    "    code_count: torch.Tensor\n",
    "\n",
    "    def __init__(\n",
    "        self,\n",
    "        num_quantizers: int,\n",
    "        num_embeddings: int,\n",
    "        embedding_dim: int,\n",
    "        decay: float = 0.99,\n",
    "        code_replace_threshold: float = 0.0001,\n",
    "        eps: float = 1e-10,\n",
    "    ) -> None:\n",
    "        super().__init__()\n",
    "        self.num_quantizers = num_quantizers\n",
    "        self.num_embeddings = num_embeddings\n",
    "        self.embedding_dim = embedding_dim\n",
    "        self.register_buffer(\"weight\", torch.empty(num_quantizers, num_embeddings, embedding_dim))\n",
    "        self.register_buffer(\"running_mean\", torch.empty(num_quantizers, num_embeddings, embedding_dim))\n",
    "        self.register_buffer(\"code_count\", torch.empty(num_quantizers, num_embeddings))\n",
    "        self.decay = decay\n",
    "        self.eps = eps\n",
    "        self.code_replace_threshold = code_replace_threshold\n",
    "        self.reset_parameters()\n",
    "\n",
    "    def reset_parameters(self) -> None:\n",
    "        init.uniform_(self.weight)\n",
    "        self.running_mean[:] = self.weight\n",
    "        init.ones_(self.code_count)\n",
    "\n",
    "    @torch.cuda.amp.autocast(enabled=False)\n",
    "    def forward(self, input: torch.Tensor) -> Tuple[torch.Tensor, torch.Tensor, List[torch.Tensor]]:\n",
    "        # input: [..., chennel]\n",
    "        if self.training:\n",
    "            # Enabling bitrate scalability with quantizer dropout\n",
    "            n = random.randrange(1, self.num_quantizers)\n",
    "        else:\n",
    "            n = self.num_quantizers\n",
    "        codes = []\n",
    "        r = input.type_as(self.running_mean).detach()\n",
    "        with torch.no_grad():\n",
    "            for i in range(n):\n",
    "                w = self.weight[i]\n",
    "                # r: [..., num_embeddings]\n",
    "                dist = torch.cdist(r, w)\n",
    "                k = torch.argmin(dist, axis=-1)\n",
    "                codes.append(k)\n",
    "                self._update_averages(i, r, k)\n",
    "                r = r - F.embedding(k, w)\n",
    "        quantized = input - r\n",
    "        commitment_loss = torch.mean(torch.square(input - quantized.detach()))\n",
    "        self.weight.data[:] = self.running_mean / torch.unsqueeze(self.eps + self.code_count, axis=-1)\n",
    "        return quantized, torch.stack(codes, input.ndim - 1), commitment_loss\n",
    "\n",
    "    def dequantize(self, input: torch.Tensor, n: Optional[int] = None) -> torch.Tensor:\n",
    "        # input: [batch_size, length, num_quantizers]\n",
    "        if n is None:\n",
    "            n = input.shape[-1]\n",
    "        assert 0 < n <= self.num_quantizers\n",
    "        res = 0\n",
    "        with torch.no_grad():\n",
    "            for i in range(n):\n",
    "                k = input[:, :, i]\n",
    "                w = self.weight[i]\n",
    "                res += F.embedding(k, w)\n",
    "        return res\n",
    "\n",
    "    def _update_averages(self, i: int, r: torch.Tensor, k: torch.Tensor) -> None:\n",
    "        # https://arxiv.org/pdf/1906.00446.pdf\n",
    "        # Generating Diverse High-Fidelity Images with VQ-VAE-2\n",
    "        # 2.1 Vector Quantized Variational AutoEncode\n",
    "\n",
    "        # k: [...]\n",
    "        one_hot_k = F.one_hot(torch.flatten(k), self.num_embeddings).type_as(self.code_count)\n",
    "        code_count_update = torch.mean(one_hot_k, axis=0)\n",
    "        self.code_count[i].lerp_(code_count_update, 1 - self.decay)\n",
    "\n",
    "        # r: [..., embedding_dim]\n",
    "        r = r.reshape(-1, self.embedding_dim)\n",
    "        running_mean_update = (one_hot_k.T @ r) / r.shape[0]\n",
    "        self.running_mean[i].lerp_(running_mean_update, 1 - self.decay)\n",
    "\n",
    "    @torch.no_grad()\n",
    "    @torch.cuda.amp.autocast(enabled=False)\n",
    "    def replace_vectors(self) -> int:\n",
    "        # https://arxiv.org/pdf/2107.03312.pdf\n",
    "        # C. Residual Vector Quantizer:\n",
    "\n",
    "        # The original paper replaces with an input frame randomly\n",
    "        # sampled within the current batch.\n",
    "        # Here we replace with random average of running mean instead.\n",
    "        num_replaced = torch.sum(self.code_count < self.code_replace_threshold).item()\n",
    "        if num_replaced > 0:\n",
    "            for i in range(self.num_quantizers):\n",
    "                mask = self.code_count[i] < self.code_replace_threshold\n",
    "                # mask: [num_quantizers, num_embeddings]\n",
    "                w = torch.rand_like(self.code_count[i])\n",
    "                w /= torch.sum(w)\n",
    "                self.running_mean[i, mask] = w.type_as(self.running_mean) @ self.running_mean[i]\n",
    "                self.code_count[i, mask] = w.type_as(self.code_count) @ self.code_count[i]\n",
    "\n",
    "        return num_replaced\n",
    "\n",
    "    @torch.no_grad()\n",
    "    def calc_entropy(self) -> float:\n",
    "        p = self.code_count / (self.eps + torch.sum(self.code_count, axis=-1, keepdim=True))\n",
    "        return -torch.sum(torch.log(p) * p).item() / self.num_quantizers\n",
    "        \n",
    "class KRVQ(torch.nn.Module):\n",
    "    def __init__(\n",
    "        self,\n",
    "        layers_hidden,\n",
    "        input_dim,\n",
    "        K,\n",
    "        num_quantizers,\n",
    "    ):\n",
    "        super(KRVQ, self).__init__()\n",
    "        self.layers_hidden = layers_hidden\n",
    "        self.input_dim = input_dim\n",
    "        self.K = K\n",
    "        self.num_quantizers = num_quantizers\n",
    "        self.encoder = KAN([input_dim, layers_hidden[0], layers_hidden[1]])\n",
    "        self.RVQ = ResidualVectorQuantizer(num_quantizers=num_quantizers, num_embeddings=K, embedding_dim=layers_hidden[1])\n",
    "        self.decoder = KAN([layers_hidden[1], layers_hidden[0], input_dim])\n",
    "\n",
    "    def encode(self, input):\n",
    "        posterior_dist = self.encoder(input)\n",
    "\n",
    "        # Split the result into miu and sigma components\n",
    "        # of the latent Gaussian distribution\n",
    "\n",
    "        return posterior_dist\n",
    "\n",
    "    def decode(self, z):\n",
    "        priori_dist = self.decoder(z)\n",
    "        return priori_dist\n",
    "\n",
    "    def forward(self, input, **kwargs):\n",
    "        encoding = self.encode(input)\n",
    "        z, codes, codebook_loss = self.RVQ(encoding)\n",
    "        return self.decode(z), codes, codebook_loss\n",
    "\n",
    "    def loss_function(self,\n",
    "                      input, \n",
    "                      ouput, \n",
    "                      codebook_loss):\n",
    "\n",
    "        recons_loss = F.mse_loss(ouput, input)\n",
    "\n",
    "        loss = recons_loss + codebook_loss\n",
    "        return {'loss': loss,\n",
    "                'Reconstruction_Loss': recons_loss,\n",
    "                'codebook_loss':codebook_loss}\n"
   ]
  },
  {
   "cell_type": "code",
   "execution_count": 56,
   "id": "d8f638a2-b178-443d-a807-49264b9a0eb4",
   "metadata": {},
   "outputs": [],
   "source": [
    "# Define model\n",
    "device = torch.device(\"cuda\" if torch.cuda.is_available() else \"cpu\")\n",
    "model = KRVQ(layers_hidden=config['hidden_layers'], input_dim=config['input_dim'], K=1024, num_quantizers=8)\n",
    "model.to(device)\n",
    "# Define optimizer\n",
    "optimizer = optim.AdamW(model.parameters(), lr=config['lr'], weight_decay=1e-4)\n",
    "# Define learning rate scheduler\n",
    "scheduler = optim.lr_scheduler.ExponentialLR(optimizer, gamma=config['gamma'])\n",
    "\n",
    "# Define loss\n",
    "criterion = nn.MSELoss()"
   ]
  },
  {
   "cell_type": "code",
   "execution_count": 64,
   "id": "d87706c4-ef8e-44b0-976d-73812a5fb475",
   "metadata": {},
   "outputs": [
    {
     "name": "stderr",
     "output_type": "stream",
     "text": [
      "100%|██████████| 157/157 [00:07<00:00, 19.63it/s, codebook_loss=0.000224, loss=0.117, lr=0.000122, recon_loss=0.116]\n"
     ]
    },
    {
     "name": "stdout",
     "output_type": "stream",
     "text": [
      "Epoch 1, Val Loss: 0.28912200033664703\n"
     ]
    },
    {
     "name": "stderr",
     "output_type": "stream",
     "text": [
      "100%|██████████| 157/157 [00:07<00:00, 19.73it/s, codebook_loss=0.00028, loss=0.154, lr=0.000109, recon_loss=0.154] \n"
     ]
    },
    {
     "name": "stdout",
     "output_type": "stream",
     "text": [
      "Epoch 2, Val Loss: 0.2850838005542755\n"
     ]
    },
    {
     "name": "stderr",
     "output_type": "stream",
     "text": [
      "100%|██████████| 157/157 [00:07<00:00, 19.74it/s, codebook_loss=0.000302, loss=0.173, lr=9.85e-5, recon_loss=0.173]\n"
     ]
    },
    {
     "name": "stdout",
     "output_type": "stream",
     "text": [
      "Epoch 3, Val Loss: 0.281186506152153\n"
     ]
    },
    {
     "name": "stderr",
     "output_type": "stream",
     "text": [
      "100%|██████████| 157/157 [00:07<00:00, 19.91it/s, codebook_loss=0.000289, loss=0.173, lr=8.86e-5, recon_loss=0.173]\n"
     ]
    },
    {
     "name": "stdout",
     "output_type": "stream",
     "text": [
      "Epoch 4, Val Loss: 0.2761758863925934\n"
     ]
    },
    {
     "name": "stderr",
     "output_type": "stream",
     "text": [
      "100%|██████████| 157/157 [00:07<00:00, 19.92it/s, codebook_loss=0.000191, loss=0.146, lr=7.98e-5, recon_loss=0.146]\n"
     ]
    },
    {
     "name": "stdout",
     "output_type": "stream",
     "text": [
      "Epoch 5, Val Loss: 0.2719113379716873\n"
     ]
    },
    {
     "name": "stderr",
     "output_type": "stream",
     "text": [
      "100%|██████████| 157/157 [00:07<00:00, 20.03it/s, codebook_loss=0.0102, loss=0.174, lr=7.18e-5, recon_loss=0.164]  \n"
     ]
    },
    {
     "name": "stdout",
     "output_type": "stream",
     "text": [
      "Epoch 6, Val Loss: 0.26778267323970795\n"
     ]
    },
    {
     "name": "stderr",
     "output_type": "stream",
     "text": [
      "100%|██████████| 157/157 [00:07<00:00, 20.00it/s, codebook_loss=0.0181, loss=0.223, lr=6.46e-5, recon_loss=0.205]  \n"
     ]
    },
    {
     "name": "stdout",
     "output_type": "stream",
     "text": [
      "Epoch 7, Val Loss: 0.2631540298461914\n"
     ]
    },
    {
     "name": "stderr",
     "output_type": "stream",
     "text": [
      "100%|██████████| 157/157 [00:07<00:00, 20.10it/s, codebook_loss=0.000293, loss=0.136, lr=5.81e-5, recon_loss=0.136]\n"
     ]
    },
    {
     "name": "stdout",
     "output_type": "stream",
     "text": [
      "Epoch 8, Val Loss: 0.25959137082099915\n"
     ]
    },
    {
     "name": "stderr",
     "output_type": "stream",
     "text": [
      "100%|██████████| 157/157 [00:07<00:00, 20.00it/s, codebook_loss=0.0168, loss=0.164, lr=5.23e-5, recon_loss=0.147]  \n"
     ]
    },
    {
     "name": "stdout",
     "output_type": "stream",
     "text": [
      "Epoch 9, Val Loss: 0.2544254660606384\n"
     ]
    },
    {
     "name": "stderr",
     "output_type": "stream",
     "text": [
      "100%|██████████| 157/157 [00:07<00:00, 20.00it/s, codebook_loss=0.000141, loss=0.07, lr=4.71e-5, recon_loss=0.0699]\n"
     ]
    },
    {
     "name": "stdout",
     "output_type": "stream",
     "text": [
      "Epoch 10, Val Loss: 0.24029655754566193\n"
     ]
    }
   ],
   "source": [
    "for epoch in range(10):\n",
    "    # Train\n",
    "    model.train()\n",
    "    with tqdm(trainloader) as pbar:\n",
    "        for i, targets in enumerate(pbar):\n",
    "            targets = targets.view(-1, config['input_dim']).to(device)\n",
    "            optimizer.zero_grad()\n",
    "            output, _, codebook_loss = model(targets)\n",
    "            loss = model.loss_function(output, targets, codebook_loss)\n",
    "            loss['loss'].backward()\n",
    "            optimizer.step()\n",
    "            pbar.set_postfix(loss=loss['loss'].item(), recon_loss=loss['Reconstruction_Loss'].item(), codebook_loss=loss['codebook_loss'].item(), lr=optimizer.param_groups[0]['lr'])\n",
    "\n",
    "    # Validation\n",
    "    model.eval()\n",
    "    val_loss = 0\n",
    "    with torch.no_grad():\n",
    "        for targets in valloader:\n",
    "            targets = targets.view(-1, config['input_dim']).to(device)\n",
    "            output, _, codebook_loss = model(targets)\n",
    "            loss = model.loss_function(output, targets, codebook_loss)\n",
    "            val_loss += loss['loss'].item()\n",
    "            \n",
    "    val_loss /= len(valloader)\n",
    "\n",
    "    # Update learning rate\n",
    "    scheduler.step()\n",
    "\n",
    "    print(\n",
    "        f\"Epoch {epoch + 1}, Val Loss: {val_loss}\"\n",
    "    )"
   ]
  },
  {
   "cell_type": "code",
   "execution_count": 31,
   "id": "7d4d7d53-f9af-4ce9-82a8-6eb4c363e9f3",
   "metadata": {},
   "outputs": [],
   "source": [
    "import matplotlib.pyplot as plt"
   ]
  },
  {
   "cell_type": "code",
   "execution_count": 68,
   "id": "78df437c-ba35-4d42-856c-6ff90bf61bd7",
   "metadata": {},
   "outputs": [
    {
     "data": {
      "image/png": "[encoded data removed]",
      "text/plain": [
       "<Figure size 640x480 with 1 Axes>"
      ]
     },
     "metadata": {},
     "output_type": "display_data"
    }
   ],
   "source": [
    "idx = 40\n",
    "pred = model(trainset[idx].to(device))[0].detach().cpu().numpy()[0]\n",
    "x = np.linspace(0, config['input_dim'], config['input_dim'])\n",
    "plt.plot(x, pred, label='recon_signal')\n",
    "plt.plot(x, trainset[idx][0], label='ori_signal')\n",
    "plt.xlabel('x')\n",
    "plt.ylabel('KVAE(x)')\n",
    "plt.title('KVAE')\n",
    "plt.legend()\n",
    "plt.savefig('assets/recon_signal.jpg')\n",
    "plt.show()"
   ]
  },
  {
   "cell_type": "code",
   "execution_count": null,
   "id": "9d9ea5ab-4611-41d3-a211-96e91c621000",
   "metadata": {},
   "outputs": [],
   "source": []
  }
 ],
 "metadata": {
  "kernelspec": {
   "display_name": "Python 3 (ipykernel)",
   "language": "python",
   "name": "python3"
  },
  "language_info": {
   "codemirror_mode": {
    "name": "ipython",
    "version": 3
   },
   "file_extension": ".py",
   "mimetype": "text/x-python",
   "name": "python",
   "nbconvert_exporter": "python",
   "pygments_lexer": "ipython3",
   "version": "3.9.15"
  }
 },
 "nbformat": 4,
 "nbformat_minor": 5
}
